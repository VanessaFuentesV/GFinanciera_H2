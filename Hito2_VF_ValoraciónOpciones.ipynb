{
  "nbformat": 4,
  "nbformat_minor": 0,
  "metadata": {
    "colab": {
      "provenance": [],
      "include_colab_link": true
    },
    "kernelspec": {
      "name": "ir",
      "display_name": "R"
    },
    "language_info": {
      "name": "R"
    }
  },
  "cells": [
    {
      "cell_type": "markdown",
      "metadata": {
        "id": "view-in-github",
        "colab_type": "text"
      },
      "source": [
        "<a href=\"https://colab.research.google.com/github/VanessaFuentesV/GFinanciera_H2/blob/main/Hito2_VF_Valoraci%C3%B3nOpciones.ipynb\" target=\"_parent\"><img src=\"https://colab.research.google.com/assets/colab-badge.svg\" alt=\"Open In Colab\"/></a>"
      ]
    },
    {
      "cell_type": "markdown",
      "metadata": {
        "id": "fE2qAdg1NKr7"
      },
      "source": [
        "# Valoración opciones aplicada\n",
        "\n",
        "Tome en consideración el modelo continuio de Black and Scholes:\n",
        "\n",
        "$$C(S,t)=S\\cdot\\Phi(d_1)-K\\exp(-R\\cdot t)\\cdot\\Phi(d_2)$$\n",
        "\n",
        "donde $d_1=\\frac{\\log\\frac{S}{K}+\\left(R+\\frac{\\sigma^2}{2}\\right)\\cdot t}{\\sqrt{\\sigma^2\\cdot t}}$ y $d_2=d_1-\\sqrt{\\sigma^2\\cdot t}$.\n",
        "\n",
        "Defina los parámetros asociados a valores del activo definido en la Tarea 1 y calcule el valor de una opción de compra."
      ]
    },
    {
      "cell_type": "markdown",
      "metadata": {
        "id": "xFllCJTDNauC"
      },
      "source": [
        "## Black-Scholes"
      ]
    },
    {
      "cell_type": "code",
      "metadata": {
        "id": "eEoBFS9ALm5j",
        "colab": {
          "base_uri": "https://localhost:8080/"
        },
        "outputId": "a51e9af9-f14b-4ecf-a0c2-10d36944267d"
      },
      "source": [
        "# Función para calcular el precio de una opción de compra (call option) según el modelo de Black-Scholes\n",
        "black_scholes_call <- function(S, K, T, r, sigma) {\n",
        "  d1 <- (log(S / K) + (r + (sigma^2) / 2) * T) / (sigma * sqrt(T))\n",
        "  d2 <- d1 - sigma * sqrt(T)\n",
        "  N_d1 <- pnorm(d1)\n",
        "  N_d2 <- pnorm(d2)\n",
        "  call_price <- S * N_d1 - K * exp(-r * T) * N_d2\n",
        "  return(call_price)\n",
        "}\n",
        "\n",
        "# Parámetros del modelo\n",
        "S <- 9.59\t   # Precio actual del activo subyacente\n",
        "K <- 16.00\t  # Precio de ejercicio\n",
        "T <- 1     # Tiempo hasta el vencimiento en años\n",
        "r <- 0.05  # Tasa de interés libre de riesgo\n",
        "sigma <- 4  # Volatilidad\n",
        "\n",
        "# Calculo\n",
        "call_price <- black_scholes_call(S, K, T, r, sigma)\n",
        "cat(\"El precio de la opción de compra es:\", call_price, \"\\n\")"
      ],
      "execution_count": 8,
      "outputs": [
        {
          "output_type": "stream",
          "name": "stdout",
          "text": [
            "El precio de la opción de compra es: 9.043028 \n"
          ]
        }
      ]
    },
    {
      "cell_type": "markdown",
      "metadata": {
        "id": "4Pb1rldRNRnD"
      },
      "source": [
        "## Segundo Modelo de valoración"
      ]
    },
    {
      "cell_type": "code",
      "source": [
        "# Parámetros del modelo\n",
        "S0 <- 9.59  # Precio actual del activo subyacente\n",
        "K <- 16.00  # Precio de ejercicio de la opción\n",
        "r <- 0.05  # Tasa de interés libre de riesgo\n",
        "sigma <- 4  # Volatilidad\n",
        "n <- 100   # Número de períodos de tiempo\n",
        "T <- 1     # Tiempo hasta la expiración de la opción\n",
        "\n",
        "# Cálculos\n",
        "dt <- T / n\n",
        "u <- exp(sigma * sqrt(dt))\n",
        "d <- 1 / u\n",
        "p <- (exp(r * dt) - d) / (u - d)\n",
        "df <- exp(-r * dt)\n",
        "\n",
        "# Inicialización de la matriz para el árbol binomial\n",
        "option_values <- matrix(0, n+1, n+1)\n",
        "\n",
        "# Calculo de valores en cada nodo del árbol desde la fecha de vencimiento hacia atrás\n",
        "for (j in 1:(n+1)) {\n",
        "  option_values[n+1, j] <- max(0, S0 * (u^(n+1-j)) * (d^(j-1)) - K)\n",
        "}\n",
        "\n",
        "for (i in n:1) {\n",
        "  for (j in 1:i) {\n",
        "    option_values[i, j] <- df * (p * option_values[i+1, j] + (1-p) * option_values[i+1, j+1])\n",
        "  }\n",
        "}\n",
        "\n",
        "# Valor de la opción en el nodo raíz (valor presente)\n",
        "option_price <- option_values[1, 1]\n",
        "\n",
        "# Valor de la opción\n",
        "print(option_price)"
      ],
      "metadata": {
        "colab": {
          "base_uri": "https://localhost:8080/"
        },
        "id": "sl0z-TC_h1yn",
        "outputId": "bd2e086a-c3cd-4757-d0dd-a5d6f0ac3643"
      },
      "execution_count": 13,
      "outputs": [
        {
          "output_type": "stream",
          "name": "stdout",
          "text": [
            "[1] 9.039909\n"
          ]
        }
      ]
    }
  ]
}